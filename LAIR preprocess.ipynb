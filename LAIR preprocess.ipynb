{
 "cells": [
  {
   "cell_type": "code",
   "execution_count": 12,
   "id": "bdca42e1",
   "metadata": {},
   "outputs": [
    {
     "data": {
      "text/html": [
       "<div>\n",
       "<style scoped>\n",
       "    .dataframe tbody tr th:only-of-type {\n",
       "        vertical-align: middle;\n",
       "    }\n",
       "\n",
       "    .dataframe tbody tr th {\n",
       "        vertical-align: top;\n",
       "    }\n",
       "\n",
       "    .dataframe thead th {\n",
       "        text-align: right;\n",
       "    }\n",
       "</style>\n",
       "<table border=\"1\" class=\"dataframe\">\n",
       "  <thead>\n",
       "    <tr style=\"text-align: right;\">\n",
       "      <th></th>\n",
       "      <th>statement</th>\n",
       "      <th>label</th>\n",
       "    </tr>\n",
       "  </thead>\n",
       "  <tbody>\n",
       "    <tr>\n",
       "      <th>0</th>\n",
       "      <td>Says the Annies List political group supports ...</td>\n",
       "      <td>fake</td>\n",
       "    </tr>\n",
       "    <tr>\n",
       "      <th>1</th>\n",
       "      <td>When did the decline of coal start? It started...</td>\n",
       "      <td>real</td>\n",
       "    </tr>\n",
       "    <tr>\n",
       "      <th>2</th>\n",
       "      <td>Hillary Clinton agrees with John McCain \"by vo...</td>\n",
       "      <td>real</td>\n",
       "    </tr>\n",
       "    <tr>\n",
       "      <th>3</th>\n",
       "      <td>Health care reform legislation is likely to ma...</td>\n",
       "      <td>fake</td>\n",
       "    </tr>\n",
       "    <tr>\n",
       "      <th>4</th>\n",
       "      <td>The economic turnaround started at the end of ...</td>\n",
       "      <td>real</td>\n",
       "    </tr>\n",
       "  </tbody>\n",
       "</table>\n",
       "</div>"
      ],
      "text/plain": [
       "                                           statement label\n",
       "0  Says the Annies List political group supports ...  fake\n",
       "1  When did the decline of coal start? It started...  real\n",
       "2  Hillary Clinton agrees with John McCain \"by vo...  real\n",
       "3  Health care reform legislation is likely to ma...  fake\n",
       "4  The economic turnaround started at the end of ...  real"
      ]
     },
     "execution_count": 12,
     "metadata": {},
     "output_type": "execute_result"
    }
   ],
   "source": [
    "import pandas as pd\n",
    "df = pd.read_csv(\"train.tsv\", sep='\\t', header = None)\n",
    "df.columns = [\"id\", \"label\", \"statement\", \"subject\", \"speaker\", \"speaker_job\", \"state\", \"party\", \"barely_true\", \"false\", \"half_true\", \"mostly_true\", \"pants_on_fire\", \"context\"]\n",
    "df = df[df['statement'].notnull() & (df['statement'].str.strip() != '')]\n",
    "real_lables = ['true', 'mostly-true', 'half-true']\n",
    "fake_lables = ['false', 'barely-true', 'pants-fire']\n",
    "\n",
    "def map_lable(label):\n",
    "    if label in real_lables:\n",
    "        return 'real'\n",
    "    elif label in fake_lables:\n",
    "        return 'fake'\n",
    "    else:\n",
    "        return None\n",
    "    \n",
    "df['label']=df['label'].apply(map_lable)\n",
    "df = df[df['label'].notnull()]\n",
    "processed_df = df[['statement', 'label']]\n",
    "processed_df.to_csv(\"liar_processed.csv\", index=False)\n",
    "processed_df.head()\n",
    "\n"
   ]
  }
 ],
 "metadata": {
  "kernelspec": {
   "display_name": "Python 3",
   "language": "python",
   "name": "python3"
  },
  "language_info": {
   "codemirror_mode": {
    "name": "ipython",
    "version": 3
   },
   "file_extension": ".py",
   "mimetype": "text/x-python",
   "name": "python",
   "nbconvert_exporter": "python",
   "pygments_lexer": "ipython3",
   "version": "3.12.4"
  }
 },
 "nbformat": 4,
 "nbformat_minor": 5
}
